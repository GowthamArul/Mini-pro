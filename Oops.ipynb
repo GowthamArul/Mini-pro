{
 "cells": [
  {
   "cell_type": "code",
   "execution_count": 1,
   "id": "5c91a2c0",
   "metadata": {},
   "outputs": [],
   "source": [
    "class Car:\n",
    "    def __init__(self):\n",
    "        self.mil = 10\n",
    "        self.com = \"BMW\""
   ]
  },
  {
   "cell_type": "code",
   "execution_count": 5,
   "id": "ca8ac4f1",
   "metadata": {},
   "outputs": [
    {
     "name": "stdout",
     "output_type": "stream",
     "text": [
      "8 BMW\n",
      "10 BMW\n"
     ]
    }
   ],
   "source": [
    "c1 = Car()\n",
    "c2 = Car()\n",
    "c1.mil = 8\n",
    "print(c1.mil, c1.com)\n",
    "print(c2.mil, c2.com)"
   ]
  },
  {
   "cell_type": "code",
   "execution_count": null,
   "id": "0111f78e",
   "metadata": {},
   "outputs": [],
   "source": []
  }
 ],
 "metadata": {
  "kernelspec": {
   "display_name": "Python 3",
   "language": "python",
   "name": "python3"
  },
  "language_info": {
   "codemirror_mode": {
    "name": "ipython",
    "version": 3
   },
   "file_extension": ".py",
   "mimetype": "text/x-python",
   "name": "python",
   "nbconvert_exporter": "python",
   "pygments_lexer": "ipython3",
   "version": "3.8.5"
  }
 },
 "nbformat": 4,
 "nbformat_minor": 5
}
